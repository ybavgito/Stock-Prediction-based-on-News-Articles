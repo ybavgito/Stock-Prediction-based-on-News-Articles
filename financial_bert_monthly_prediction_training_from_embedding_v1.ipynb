{
  "cells": [
    {
      "cell_type": "markdown",
      "metadata": {
        "colab_type": "text",
        "id": "view-in-github"
      },
      "source": [
        "<a href=\"https://colab.research.google.com/github/gitHubAndyLee2020/FinanceBERT/blob/main/financial_bert_monthly_prediction_training_from_embedding_v1.ipynb\" target=\"_parent\"><img src=\"https://colab.research.google.com/assets/colab-badge.svg\" alt=\"Open In Colab\"/></a>"
      ]
    },
    {
      "cell_type": "markdown",
      "metadata": {
        "id": "uNVKG-IgoerS"
      },
      "source": [
        "### Model Training from Embedding v1"
      ]
    },
    {
      "cell_type": "markdown",
      "metadata": {
        "id": "OFpIQ5Yc53kW"
      },
      "source": [
        "### Data Preparation"
      ]
    },
    {
      "cell_type": "code",
      "execution_count": null,
      "metadata": {
        "id": "54rA2y4gN4eo"
      },
      "outputs": [],
      "source": [
        "# Prepare stock price history data\n",
        "import json\n",
        "import os\n",
        "\n",
        "# Path to your folder containing .jsonl files\n",
        "folder_path = 'stock_data/'\n",
        "\n",
        "# Initialize an empty list to store the dictionaries from all files\n",
        "stock_price_history_data_list = []\n",
        "\n",
        "# Iterate over each file in the folder\n",
        "for filename in os.listdir(folder_path):\n",
        "    if filename.endswith('.jsonl'):\n",
        "        file_path = os.path.join(folder_path, filename)\n",
        "\n",
        "        # Open and read each file\n",
        "        with open(file_path, 'r') as file:\n",
        "            for line in file:\n",
        "                # Convert each line into a dictionary and append to the list\n",
        "                stock_price_history_data_list.append(json.loads(line))\n",
        "\n",
        "stock_price_history_data = {}\n",
        "\n",
        "for entry in stock_price_history_data_list:\n",
        "    if entry['stock'] not in stock_price_history_data:\n",
        "        stock_price_history_data[entry['stock']] = {}\n",
        "    stock_price_history_data[entry['stock']][entry['month_year']] = {\n",
        "        'this_month_vw': entry['this_month_vw'],\n",
        "        'next_month_vw': entry['next_month_vw'],\n",
        "        'percentage_change': entry['percentage_change'],\n",
        "    }"
      ]
    },
    {
      "cell_type": "code",
      "execution_count": null,
      "metadata": {
        "id": "iFTGDUokN29m"
      },
      "outputs": [],
      "source": [
        "# Prepare training data\n",
        "import json\n",
        "\n",
        "# Path to your .jsonl file\n",
        "file_path = 'cleaned_training_data.jsonl'\n",
        "\n",
        "# Initialize an empty list to store the dictionaries\n",
        "training_data_list = []\n",
        "\n",
        "# Open the file and read line by line\n",
        "with open(file_path, 'r') as file:\n",
        "    for line in file:\n",
        "        # Convert each line into a dictionary and append to the list\n",
        "        training_data_list.append(json.loads(line))\n",
        "\n",
        "training_data = {}\n",
        "\n",
        "for entry in training_data_list:\n",
        "    if entry['stock'] not in training_data:\n",
        "        training_data[entry['stock']] = {}\n",
        "    training_data[entry['stock']][entry['month_year']] = entry['data']"
      ]
    },
    {
      "cell_type": "code",
      "execution_count": null,
      "metadata": {
        "colab": {
          "base_uri": "https://localhost:8080/"
        },
        "id": "YhF-RtVcRH8h",
        "outputId": "7c77dae0-907b-4f37-e23f-e3674500b601"
      },
      "outputs": [
        {
          "data": {
            "text/plain": [
              "({'this_month_vw': 77.448,\n",
              "  'next_month_vw': 80.0518,\n",
              "  'percentage_change': 0.03361997727507498},\n",
              " [{'title': 'Barclays Maintains Overweight on Agilent Technologies, Raises Price Target to $83',\n",
              "   'date': '2019-02-21 08:00:00-05:00'},\n",
              "  {'title': 'UPDATE: Agilent Raises FY19 Adj. EPS Guidance From $3-$3.05 To $3.03-$3.07 vs $3.05 Estimate, Sales From $5.13B-$5.17B To $5.15B-$5.19B vs $5.17B Est.',\n",
              "   'date': '2019-02-20 16:07:00-05:00'},\n",
              "  {'title': 'Agilent Sees Q2 Adj. EPS $0.70-$0.72 vs $0.72 Estimate, Sales $1.255B-$1.27B vs $1.27B Est.; Raises FY19 Guidance',\n",
              "   'date': '2019-02-20 16:06:00-05:00'},\n",
              "  {'title': 'Agilent Technologies Q1 EPS $0.76 Beats $0.73 Estimate, Sales $1.284B Beat $1.27B Estimate',\n",
              "   'date': '2019-02-20 16:05:00-05:00'},\n",
              "  {'title': '10 Stocks To Watch For February 20, 2019',\n",
              "   'date': '2019-02-20 04:33:00-05:00'},\n",
              "  {'title': 'Earnings Scheduled For February 20, 2019',\n",
              "   'date': '2019-02-20 04:04:00-05:00'},\n",
              "  {'title': 'JANA 13F Shows Liquidated Stakes In Alibaba, Agilent, US Steel, SVMK, Electronic Arts, Dollar Tree',\n",
              "   'date': '2019-02-14 09:36:00-05:00'},\n",
              "  {'title': '8 Biggest Price Target Changes For Tuesday',\n",
              "   'date': '2019-02-12 09:57:00-05:00'},\n",
              "  {'title': 'Deutsche Bank Maintains Buy on Agilent Technologies, Raises Price Target to $85',\n",
              "   'date': '2019-02-12 08:34:00-05:00'}])"
            ]
          },
          "execution_count": 12,
          "metadata": {},
          "output_type": "execute_result"
        }
      ],
      "source": [
        "stock_price_history_data['A']['2019-02'], training_data['A']['2019-02']"
      ]
    },
    {
      "cell_type": "markdown",
      "metadata": {
        "id": "d7vlcx1SFRb2"
      },
      "source": [
        "### Group Entries by Published Dates"
      ]
    },
    {
      "cell_type": "code",
      "execution_count": null,
      "metadata": {
        "id": "zFFAkrNWSneT"
      },
      "outputs": [],
      "source": [
        "# Format train/test dataset\n",
        "presplit_texts = []\n",
        "presplit_targets = []\n",
        "\n",
        "for ticker in stock_price_history_data.keys():\n",
        "    for month_year in stock_price_history_data[ticker].keys():\n",
        "        if month_year in training_data[ticker]:\n",
        "            headlines = [item['title'] for item in training_data[ticker][month_year]]\n",
        "            # Group headlines by 5 items, skip leftovers\n",
        "            # Each item in a group joined by periods\n",
        "            length = len(headlines) - len(headlines) % 5\n",
        "            for i in range(0, length, 5):\n",
        "                presplit_texts.append('. '.join(headlines[i:i+5]) + '.')\n",
        "                presplit_targets.append(stock_price_history_data[ticker][month_year]['percentage_change'])"
      ]
    },
    {
      "cell_type": "code",
      "execution_count": null,
      "metadata": {
        "id": "Ig0xxfy6VQa7"
      },
      "outputs": [],
      "source": [
        "from sklearn.model_selection import train_test_split\n",
        "\n",
        "# Randomly split the dataset into train and test sets\n",
        "texts, test_texts, targets, test_targets = train_test_split(\n",
        "    presplit_texts, presplit_targets, test_size=0.1, random_state=42\n",
        ")"
      ]
    },
    {
      "cell_type": "markdown",
      "metadata": {
        "id": "LPiwgMI356yu"
      },
      "source": [
        "### Model Definition"
      ]
    },
    {
      "cell_type": "code",
      "execution_count": null,
      "metadata": {
        "id": "XZc4CfRtogI7"
      },
      "outputs": [],
      "source": [
        "import torch\n",
        "from torch import nn\n",
        "from transformers import BertModel, BertTokenizer"
      ]
    },
    {
      "cell_type": "code",
      "execution_count": null,
      "metadata": {
        "id": "kXzLGjlpaM36"
      },
      "outputs": [],
      "source": [
        "device = torch.device(\"cuda\" if torch.cuda.is_available() else \"cpu\")\n",
        "print(\"Using device:\", device)"
      ]
    },
    {
      "cell_type": "code",
      "execution_count": null,
      "metadata": {
        "id": "x0n4y77BojDa"
      },
      "outputs": [],
      "source": [
        "class FinBERTRegressor(nn.Module):\n",
        "    def __init__(self, finbert_model_name=\"ProsusAI/finbert\", hidden_size=768, output_size=1):\n",
        "        super(FinBERTRegressor, self).__init__()\n",
        "        # Load the FinBERT model\n",
        "        self.finbert = BertModel.from_pretrained(finbert_model_name)\n",
        "\n",
        "        # Regression layer\n",
        "        self.regressor = nn.Linear(hidden_size, output_size)\n",
        "\n",
        "    def forward(self, input_ids, attention_mask, token_type_ids=None):\n",
        "        # Get embeddings from FinBERT\n",
        "        with torch.no_grad():  # No need to calculate gradients for FinBERT\n",
        "            outputs = self.finbert(input_ids=input_ids, attention_mask=attention_mask)\n",
        "\n",
        "        # We use the [CLS] token's embedding for regression\n",
        "        cls_embedding = outputs.last_hidden_state[:, 0, :]\n",
        "\n",
        "        # Pass through the regression layer\n",
        "        return self.regressor(cls_embedding)"
      ]
    },
    {
      "cell_type": "code",
      "execution_count": null,
      "metadata": {
        "id": "XX_FBg4Pom2b"
      },
      "outputs": [],
      "source": [
        "model = FinBERTRegressor()\n",
        "model.to(device)  # Move the model to the GPU"
      ]
    },
    {
      "cell_type": "code",
      "execution_count": null,
      "metadata": {
        "id": "b3ALocJnopcN"
      },
      "outputs": [],
      "source": [
        "tokenizer = BertTokenizer.from_pretrained(\"ProsusAI/finbert\")"
      ]
    },
    {
      "cell_type": "markdown",
      "metadata": {
        "id": "5_rmNJkb599x"
      },
      "source": [
        "### Dataset Processing"
      ]
    },
    {
      "cell_type": "code",
      "execution_count": null,
      "metadata": {
        "id": "4iOzcjVWqQIu"
      },
      "outputs": [],
      "source": [
        "from torch.utils.data import DataLoader, TensorDataset\n",
        "import torch.optim as optim\n",
        "from tqdm import tqdm  # Import tqdm\n",
        "\n",
        "# Assuming 'texts' is your list of texts to be tokenized\n",
        "input_ids = []\n",
        "attention_masks = []\n",
        "\n",
        "# Wrap the iteration over texts with tqdm\n",
        "for text in tqdm(texts, desc=\"Tokenizing\"):\n",
        "    encoded_dict = tokenizer.encode_plus(\n",
        "                        text,\n",
        "                        add_special_tokens=True,\n",
        "                        max_length=64,\n",
        "                        pad_to_max_length=True,\n",
        "                        return_attention_mask=True,\n",
        "                        return_tensors='pt',\n",
        "                   )\n",
        "\n",
        "    input_ids.append(encoded_dict['input_ids'])\n",
        "    attention_masks.append(encoded_dict['attention_mask'])\n",
        "\n",
        "input_ids = torch.cat(input_ids, dim=0)\n",
        "attention_masks = torch.cat(attention_masks, dim=0)\n",
        "targets = torch.tensor(targets)\n",
        "\n",
        "# Create TensorDataset\n",
        "dataset = TensorDataset(input_ids, attention_masks, targets)\n",
        "\n",
        "# DataLoader\n",
        "batch_size = 16\n",
        "dataloader = DataLoader(dataset, batch_size=batch_size, shuffle=True)\n",
        "\n",
        "# Loss function\n",
        "loss_fn = nn.MSELoss()\n",
        "\n",
        "# Optimizer\n",
        "optimizer = optim.Adam(model.parameters(), lr=1e-5)"
      ]
    },
    {
      "cell_type": "code",
      "execution_count": null,
      "metadata": {
        "id": "3mfTHBk-cDN8"
      },
      "outputs": [],
      "source": [
        "# Tokenize the test data\n",
        "test_input_ids = []\n",
        "test_attention_masks = []\n",
        "\n",
        "for text in tqdm(test_texts, desc=\"Tokenizing Test Data\"):\n",
        "    encoded_dict = tokenizer.encode_plus(\n",
        "                        text,\n",
        "                        add_special_tokens=True,\n",
        "                        max_length=64,\n",
        "                        pad_to_max_length=True,\n",
        "                        return_attention_mask=True,\n",
        "                        return_tensors='pt',\n",
        "                   )\n",
        "\n",
        "    test_input_ids.append(encoded_dict['input_ids'])\n",
        "    test_attention_masks.append(encoded_dict['attention_mask'])\n",
        "\n",
        "test_input_ids = torch.cat(test_input_ids, dim=0)\n",
        "test_attention_masks = torch.cat(test_attention_masks, dim=0)\n",
        "test_targets = torch.tensor(test_targets)\n",
        "\n",
        "# Create TensorDataset for test data\n",
        "test_dataset = TensorDataset(test_input_ids, test_attention_masks, test_targets)\n",
        "\n",
        "# Create DataLoader for test data\n",
        "test_dataloader = DataLoader(test_dataset, batch_size=batch_size, shuffle=False)"
      ]
    },
    {
      "cell_type": "markdown",
      "metadata": {
        "id": "lN_Xsmxj6E03"
      },
      "source": [
        "### Training Loop"
      ]
    },
    {
      "cell_type": "code",
      "execution_count": null,
      "metadata": {
        "id": "Gq55_4eTdKYE"
      },
      "outputs": [],
      "source": [
        "avg_train_loss_history = []\n",
        "avg_test_loss_history = []\n",
        "# Initialize variables to track the best test loss and corresponding epoch\n",
        "best_test_loss = float('inf')\n",
        "best_epoch = 0"
      ]
    },
    {
      "cell_type": "code",
      "execution_count": null,
      "metadata": {
        "id": "rl4ANH_jdPTS"
      },
      "outputs": [],
      "source": [
        "start_epoch = 1 # inclusive\n",
        "end_epoch = 51 # exclusive"
      ]
    },
    {
      "cell_type": "code",
      "execution_count": null,
      "metadata": {
        "id": "LxStoBohXDBz"
      },
      "outputs": [],
      "source": [
        "# Check if the model directory exists, if not, create it\n",
        "model_dir = 'model'\n",
        "if not os.path.exists(model_dir):\n",
        "    os.makedirs(model_dir)\n",
        "\n",
        "# Training Loop\n",
        "for epoch in range(start_epoch, end_epoch):\n",
        "    # Training Phase\n",
        "    model.train()\n",
        "    total_train_loss = 0\n",
        "\n",
        "    progress_bar = tqdm(dataloader, desc=f'Epoch {epoch}/{end_epoch - 1}')\n",
        "    for batch in progress_bar:\n",
        "        b_input_ids, b_input_mask, b_labels = [b.to(device) for b in batch]\n",
        "        optimizer.zero_grad()\n",
        "        outputs = model(b_input_ids, b_input_mask)\n",
        "        loss = loss_fn(outputs.squeeze(), b_labels.float())\n",
        "        total_train_loss += loss.item()\n",
        "        loss.backward()\n",
        "        optimizer.step()\n",
        "        progress_bar.set_description(f\"Epoch {epoch}/{end_epoch - 1} - Train Loss: {loss.item():.2f}\")\n",
        "\n",
        "    avg_train_loss = total_train_loss / len(dataloader)\n",
        "    avg_train_loss_history.append(avg_train_loss)\n",
        "    print(f'Epoch {epoch}/{end_epoch - 1} - Avg Train Loss: {avg_train_loss:.2f}')\n",
        "\n",
        "    # Evaluation Phase\n",
        "    model.eval()\n",
        "    total_test_loss = 0\n",
        "    with torch.no_grad():\n",
        "        for batch in test_dataloader:\n",
        "            b_input_ids, b_input_mask, b_labels = [b.to(device) for b in batch]\n",
        "            outputs = model(b_input_ids, b_input_mask)\n",
        "            loss = loss_fn(outputs.squeeze(), b_labels.float())\n",
        "            total_test_loss += loss.item()\n",
        "\n",
        "    avg_test_loss = total_test_loss / len(test_dataloader)\n",
        "    avg_test_loss_history.append(avg_test_loss)\n",
        "    print(f'Epoch {epoch}/{end_epoch - 1} - Avg Test Loss: {avg_test_loss:.2f}')\n",
        "\n",
        "    # Keep track of the best epoch\n",
        "    if avg_test_loss < best_test_loss:\n",
        "        best_test_loss = avg_test_loss\n",
        "        best_epoch = epoch\n",
        "\n",
        "    # Save the model weights\n",
        "    model_save_path = os.path.join(model_dir, f'model_epoch_{epoch}.pth')\n",
        "    torch.save(model.regressor.state_dict(), model_save_path)\n",
        "    print(f'Model saved for epoch {epoch} at {model_save_path}')"
      ]
    },
    {
      "cell_type": "markdown",
      "metadata": {
        "id": "bJaX4zSm6G4n"
      },
      "source": [
        "### Examples Inputs & Outputs"
      ]
    },
    {
      "cell_type": "code",
      "execution_count": null,
      "metadata": {
        "colab": {
          "base_uri": "https://localhost:8080/"
        },
        "id": "Ka7cRbMXou1J",
        "outputId": "984cbd09-ec84-4c32-e4b1-41926aac7c62"
      },
      "outputs": [
        {
          "name": "stdout",
          "output_type": "stream",
          "text": [
            "Prediction is 2.43% rise in the stock price during next month.\n"
          ]
        }
      ],
      "source": [
        "# Assuming 'model' is your PyTorch model and 'tokenizer' is your tokenizer\n",
        "text = \"Google stock rises 200% during this year's 3rd quarter.\"\n",
        "\n",
        "# Tokenize the text\n",
        "inputs = tokenizer(text, return_tensors=\"pt\", truncation=True, padding=True, max_length=512)\n",
        "\n",
        "# Move the inputs to the same device as the model\n",
        "inputs = {k: v.to(device) for k, v in inputs.items()}\n",
        "\n",
        "# Generate output\n",
        "output = model(**inputs)\n",
        "\n",
        "print(f\"Prediction is {abs(output.item()) * 100:.2f}% {'rise' if output.item() > 0 else 'fall'} in the stock price during next month.\")"
      ]
    },
    {
      "cell_type": "code",
      "execution_count": null,
      "metadata": {
        "colab": {
          "base_uri": "https://localhost:8080/"
        },
        "id": "IyZWQ0ys2Uh4",
        "outputId": "27e92643-5dff-454e-e1d1-fef29e21d0c6"
      },
      "outputs": [
        {
          "name": "stdout",
          "output_type": "stream",
          "text": [
            "Prediction is 1.67% fall in the stock price during next month.\n"
          ]
        }
      ],
      "source": [
        "# Assuming 'model' is your PyTorch model and 'tokenizer' is your tokenizer\n",
        "text = \"Google stock crashs and the company files for backruptcy\"\n",
        "\n",
        "# Tokenize the text\n",
        "inputs = tokenizer(text, return_tensors=\"pt\", truncation=True, padding=True, max_length=512)\n",
        "\n",
        "# Move the inputs to the same device as the model\n",
        "inputs = {k: v.to(device) for k, v in inputs.items()}\n",
        "\n",
        "# Generate output\n",
        "output = model(**inputs)\n",
        "\n",
        "print(f\"Prediction is {abs(output.item()) * 100:.2f}% {'rise' if output.item() > 0 else 'fall'} in the stock price during next month.\")"
      ]
    },
    {
      "cell_type": "markdown",
      "metadata": {
        "id": "wS1wnCOA6J2s"
      },
      "source": [
        "### Training Statistics"
      ]
    },
    {
      "cell_type": "code",
      "execution_count": null,
      "metadata": {
        "id": "hBlrq_c9kalh"
      },
      "outputs": [],
      "source": [
        "# Print the best epoch and its test loss after all epochs are completed\n",
        "print(f'Best epoch: {best_epoch} with Test Loss: {best_test_loss:.2f}')"
      ]
    },
    {
      "cell_type": "code",
      "execution_count": null,
      "metadata": {
        "colab": {
          "base_uri": "https://localhost:8080/",
          "height": 564
        },
        "id": "CaosdSgvdkCH",
        "outputId": "19b6e194-7b1e-47c3-fb54-587f3a9fa010"
      },
      "outputs": [
        {
          "data": {
            "image/png": "[encoded data removed]",
            "text/plain": [
              "<Figure size 1000x600 with 1 Axes>"
            ]
          },
          "metadata": {},
          "output_type": "display_data"
        }
      ],
      "source": [
        "import matplotlib.pyplot as plt\n",
        "\n",
        "# Creating the plot\n",
        "plt.figure(figsize=(10, 6))  # Optional: You can adjust the figure size\n",
        "plt.plot(avg_train_loss_history, linestyle='-', color='b')  # Line plot without markers\n",
        "\n",
        "# Adding title and labels\n",
        "plt.title('Loss Over Time (Train Avg Loss)')\n",
        "plt.xlabel('Epochs')\n",
        "plt.ylabel('Loss')\n",
        "\n",
        "# Optionally, add a grid for easier reading\n",
        "plt.grid(True)\n",
        "\n",
        "# Show the plot\n",
        "plt.show()"
      ]
    },
    {
      "cell_type": "code",
      "execution_count": null,
      "metadata": {
        "colab": {
          "base_uri": "https://localhost:8080/",
          "height": 564
        },
        "id": "ObmckHnsdnJl",
        "outputId": "151b106f-bcd0-4c96-b204-9f2a41d62e88"
      },
      "outputs": [
        {
          "data": {
            "image/png": "[encoded data removed]",
            "text/plain": [
              "<Figure size 1000x600 with 1 Axes>"
            ]
          },
          "metadata": {},
          "output_type": "display_data"
        }
      ],
      "source": [
        "import matplotlib.pyplot as plt\n",
        "\n",
        "# Creating the plot\n",
        "plt.figure(figsize=(10, 6))  # Optional: You can adjust the figure size\n",
        "plt.plot(avg_test_loss_history, linestyle='-', color='b')  # Line plot without markers\n",
        "\n",
        "# Adding title and labels\n",
        "plt.title('Loss Over Time (Test Avg Loss)')\n",
        "plt.xlabel('Epochs')\n",
        "plt.ylabel('Loss')\n",
        "\n",
        "# Optionally, add a grid for easier reading\n",
        "plt.grid(True)\n",
        "\n",
        "# Show the plot\n",
        "plt.show()"
      ]
    },
    {
      "cell_type": "markdown",
      "metadata": {
        "id": "-uaRpW2w6Sxt"
      },
      "source": [
        "### Model Information"
      ]
    },
    {
      "cell_type": "code",
      "execution_count": null,
      "metadata": {
        "id": "wFHHPVSvu8UM"
      },
      "outputs": [],
      "source": [
        "# Calculate the number of parameters\n",
        "total_params = sum(p.numel() for p in model.regressor.parameters())\n",
        "\n",
        "print(f\"Total number of parameters: {total_params}\")"
      ]
    },
    {
      "cell_type": "code",
      "execution_count": null,
      "metadata": {
        "id": "W8fbZuHsvPYa"
      },
      "outputs": [],
      "source": [
        "!ls -lh model/model_epoch_1.pth"
      ]
    },
    {
      "cell_type": "markdown",
      "metadata": {
        "id": "6U2aOEQV6NFz"
      },
      "source": [
        "### Downloading Model Data"
      ]
    },
    {
      "cell_type": "code",
      "execution_count": null,
      "metadata": {
        "colab": {
          "base_uri": "https://localhost:8080/",
          "height": 17
        },
        "id": "VHiEdY8Qss-8",
        "outputId": "9f8eac6d-69cf-4c36-c1c1-788dacb62ebc"
      },
      "outputs": [
        {
          "data": {
            "application/javascript": "\n    async function download(id, filename, size) {\n      if (!google.colab.kernel.accessAllowed) {\n        return;\n      }\n      const div = document.createElement('div');\n      const label = document.createElement('label');\n      label.textContent = `Downloading \"${filename}\": `;\n      div.appendChild(label);\n      const progress = document.createElement('progress');\n      progress.max = size;\n      div.appendChild(progress);\n      document.body.appendChild(div);\n\n      const buffers = [];\n      let downloaded = 0;\n\n      const channel = await google.colab.kernel.comms.open(id);\n      // Send a message to notify the kernel that we're ready.\n      channel.send({})\n\n      for await (const message of channel.messages) {\n        // Send a message to notify the kernel that we're ready.\n        channel.send({})\n        if (message.buffers) {\n          for (const buffer of message.buffers) {\n            buffers.push(buffer);\n            downloaded += buffer.byteLength;\n            progress.value = downloaded;\n          }\n        }\n      }\n      const blob = new Blob(buffers, {type: 'application/binary'});\n      const a = document.createElement('a');\n      a.href = window.URL.createObjectURL(blob);\n      a.download = filename;\n      div.appendChild(a);\n      a.click();\n      div.remove();\n    }\n  ",
            "text/plain": [
              "<IPython.core.display.Javascript object>"
            ]
          },
          "metadata": {},
          "output_type": "display_data"
        },
        {
          "data": {
            "application/javascript": "download(\"download_b682a488-a73b-44f5-b14c-dc86245b2c5e\", \"model_training_data_v1.json\", 3092)",
            "text/plain": [
              "<IPython.core.display.Javascript object>"
            ]
          },
          "metadata": {},
          "output_type": "display_data"
        }
      ],
      "source": [
        "import json\n",
        "from google.colab import files\n",
        "\n",
        "# Example dictionary\n",
        "data = {\n",
        "    'batch_size': batch_size,\n",
        "    'learning_rate': 1e-5,\n",
        "    'num_epochs': 50,\n",
        "    'best_epoch': best_epoch,\n",
        "    'best_test_loss': best_test_loss,\n",
        "    'avg_train_loss_history': avg_train_loss_history,\n",
        "    'avg_test_loss_history': avg_test_loss_history,\n",
        "}\n",
        "\n",
        "# Convert dictionary to JSON formatted string\n",
        "json_data = json.dumps(data, indent=4)\n",
        "\n",
        "# Write JSON data to a file\n",
        "filename = 'model_training_data_v1.json'\n",
        "with open(filename, 'w') as file:\n",
        "    file.write(json_data)\n",
        "\n",
        "# Download the file to your local system\n",
        "files.download(filename)"
      ]
    },
    {
      "cell_type": "code",
      "execution_count": null,
      "metadata": {
        "colab": {
          "base_uri": "https://localhost:8080/",
          "height": 17
        },
        "id": "9PjM4TW1zJKb",
        "outputId": "d153f499-6f2f-4e2d-e57a-497dffcaa0d6"
      },
      "outputs": [
        {
          "data": {
            "application/javascript": "\n    async function download(id, filename, size) {\n      if (!google.colab.kernel.accessAllowed) {\n        return;\n      }\n      const div = document.createElement('div');\n      const label = document.createElement('label');\n      label.textContent = `Downloading \"${filename}\": `;\n      div.appendChild(label);\n      const progress = document.createElement('progress');\n      progress.max = size;\n      div.appendChild(progress);\n      document.body.appendChild(div);\n\n      const buffers = [];\n      let downloaded = 0;\n\n      const channel = await google.colab.kernel.comms.open(id);\n      // Send a message to notify the kernel that we're ready.\n      channel.send({})\n\n      for await (const message of channel.messages) {\n        // Send a message to notify the kernel that we're ready.\n        channel.send({})\n        if (message.buffers) {\n          for (const buffer of message.buffers) {\n            buffers.push(buffer);\n            downloaded += buffer.byteLength;\n            progress.value = downloaded;\n          }\n        }\n      }\n      const blob = new Blob(buffers, {type: 'application/binary'});\n      const a = document.createElement('a');\n      a.href = window.URL.createObjectURL(blob);\n      a.download = filename;\n      div.appendChild(a);\n      a.click();\n      div.remove();\n    }\n  ",
            "text/plain": [
              "<IPython.core.display.Javascript object>"
            ]
          },
          "metadata": {},
          "output_type": "display_data"
        },
        {
          "data": {
            "application/javascript": "download(\"download_810aef48-e9c6-4f2a-9b1d-61db633b8a6f\", \"model_epoch_47.pth\", 438016315)",
            "text/plain": [
              "<IPython.core.display.Javascript object>"
            ]
          },
          "metadata": {},
          "output_type": "display_data"
        }
      ],
      "source": [
        "# Download the best model weight to your local system\n",
        "files.download(f'model/model_epoch_{best_epoch}.pth')"
      ]
    }
  ],
  "metadata": {
    "accelerator": "GPU",
    "colab": {
      "authorship_tag": "ABX9TyN3sh1zswnSDRWK8KyZAzVS",
      "gpuType": "V100",
      "include_colab_link": true,
      "machine_shape": "hm",
      "provenance": []
    },
    "kernelspec": {
      "display_name": "Python 3",
      "name": "python3"
    },
    "language_info": {
      "name": "python"
    }
  },
  "nbformat": 4,
  "nbformat_minor": 0
}
