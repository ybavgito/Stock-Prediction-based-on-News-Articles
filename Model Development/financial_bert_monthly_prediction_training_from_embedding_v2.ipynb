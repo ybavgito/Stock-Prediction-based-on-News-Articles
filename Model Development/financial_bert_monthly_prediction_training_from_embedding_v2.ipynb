{
  "cells": [
    {
      "cell_type": "markdown",
      "metadata": {
        "colab_type": "text",
        "id": "view-in-github"
      },
      "source": [
        "<a href=\"https://colab.research.google.com/github/gitHubAndyLee2020/FinanceBERT/blob/main/financial_bert_monthly_prediction_training_from_embedding_v2.ipynb\" target=\"_parent\"><img src=\"https://colab.research.google.com/assets/colab-badge.svg\" alt=\"Open In Colab\"/></a>"
      ]
    },
    {
      "cell_type": "markdown",
      "metadata": {
        "id": "vXCQfEFV7yj_"
      },
      "source": [
        "### FinancialBERT Monthly Prediction Training from Embedding v2"
      ]
    },
    {
      "cell_type": "markdown",
      "metadata": {
        "id": "8zg86qMz72Kq"
      },
      "source": [
        "### Data Preparation"
      ]
    },
    {
      "cell_type": "code",
      "execution_count": 1,
      "metadata": {
        "id": "_Bc2ctP-8HOf"
      },
      "outputs": [],
      "source": [
        "# Prepare stock price history data\n",
        "import json\n",
        "import os\n",
        "\n",
        "# Path to your folder containing .jsonl files\n",
        "folder_path = 'data/stock_data/'\n",
        "\n",
        "# Initialize an empty list to store the dictionaries from all files\n",
        "stock_price_history_data_list = []\n",
        "\n",
        "# Iterate over each file in the folder\n",
        "for filename in os.listdir(folder_path):\n",
        "    if filename.endswith('.jsonl'):\n",
        "        file_path = os.path.join(folder_path, filename)\n",
        "\n",
        "        # Open and read each file\n",
        "        with open(file_path, 'r') as file:\n",
        "            for line in file:\n",
        "                # Convert each line into a dictionary and append to the list\n",
        "                stock_price_history_data_list.append(json.loads(line))\n",
        "\n",
        "stock_price_history_data = {}\n",
        "\n",
        "for entry in stock_price_history_data_list:\n",
        "    if entry['stock'] not in stock_price_history_data:\n",
        "        stock_price_history_data[entry['stock']] = {}\n",
        "    stock_price_history_data[entry['stock']][entry['month_year']] = {\n",
        "        'this_month_vw': entry['this_month_vw'],\n",
        "        'next_month_vw': entry['next_month_vw'],\n",
        "        'percentage_change': entry['percentage_change'],\n",
        "    }"
      ]
    },
    {
      "cell_type": "code",
      "execution_count": 2,
      "metadata": {
        "id": "t0dCMLbV8I3t"
      },
      "outputs": [],
      "source": [
        "# Prepare training data\n",
        "import json\n",
        "\n",
        "# Path to your .jsonl file\n",
        "file_path = 'data/cleaned_training_data.jsonl'\n",
        "\n",
        "# Initialize an empty list to store the dictionaries\n",
        "training_data_list = []\n",
        "\n",
        "# Open the file and read line by line\n",
        "with open(file_path, 'r') as file:\n",
        "    for line in file:\n",
        "        # Convert each line into a dictionary and append to the list\n",
        "        training_data_list.append(json.loads(line))\n",
        "\n",
        "training_data = {}\n",
        "\n",
        "for entry in training_data_list:\n",
        "    if entry['stock'] not in training_data:\n",
        "        training_data[entry['stock']] = {}\n",
        "    training_data[entry['stock']][entry['month_year']] = entry['data']"
      ]
    },
    {
      "cell_type": "code",
      "execution_count": 3,
      "metadata": {
        "colab": {
          "base_uri": "https://localhost:8080/"
        },
        "id": "9q7M3Rga8LQM",
        "outputId": "1a039288-91e2-4ef4-f075-8b1ba1868c6d"
      },
      "outputs": [
        {
          "data": {
            "text/plain": [
              "({'this_month_vw': 77.448,\n",
              "  'next_month_vw': 80.0518,\n",
              "  'percentage_change': 0.03361997727507498},\n",
              " [{'title': 'Barclays Maintains Overweight on Agilent Technologies, Raises Price Target to $83',\n",
              "   'date': '2019-02-21 08:00:00-05:00'},\n",
              "  {'title': 'UPDATE: Agilent Raises FY19 Adj. EPS Guidance From $3-$3.05 To $3.03-$3.07 vs $3.05 Estimate, Sales From $5.13B-$5.17B To $5.15B-$5.19B vs $5.17B Est.',\n",
              "   'date': '2019-02-20 16:07:00-05:00'},\n",
              "  {'title': 'Agilent Sees Q2 Adj. EPS $0.70-$0.72 vs $0.72 Estimate, Sales $1.255B-$1.27B vs $1.27B Est.; Raises FY19 Guidance',\n",
              "   'date': '2019-02-20 16:06:00-05:00'},\n",
              "  {'title': 'Agilent Technologies Q1 EPS $0.76 Beats $0.73 Estimate, Sales $1.284B Beat $1.27B Estimate',\n",
              "   'date': '2019-02-20 16:05:00-05:00'},\n",
              "  {'title': '10 Stocks To Watch For February 20, 2019',\n",
              "   'date': '2019-02-20 04:33:00-05:00'},\n",
              "  {'title': 'Earnings Scheduled For February 20, 2019',\n",
              "   'date': '2019-02-20 04:04:00-05:00'},\n",
              "  {'title': 'JANA 13F Shows Liquidated Stakes In Alibaba, Agilent, US Steel, SVMK, Electronic Arts, Dollar Tree',\n",
              "   'date': '2019-02-14 09:36:00-05:00'},\n",
              "  {'title': '8 Biggest Price Target Changes For Tuesday',\n",
              "   'date': '2019-02-12 09:57:00-05:00'},\n",
              "  {'title': 'Deutsche Bank Maintains Buy on Agilent Technologies, Raises Price Target to $85',\n",
              "   'date': '2019-02-12 08:34:00-05:00'}])"
            ]
          },
          "execution_count": 3,
          "metadata": {},
          "output_type": "execute_result"
        }
      ],
      "source": [
        "stock_price_history_data['A']['2019-02'], training_data['A']['2019-02']"
      ]
    },
    {
      "cell_type": "markdown",
      "metadata": {
        "id": "L9Ap8bkFNDze"
      },
      "source": [
        "### Top-k Retrival"
      ]
    },
    {
      "cell_type": "code",
      "execution_count": 4,
      "metadata": {
        "id": "YFWk_kMBV5W5"
      },
      "outputs": [],
      "source": [
        "import faiss\n",
        "import numpy as np\n",
        "from sklearn.feature_extraction.text import TfidfVectorizer"
      ]
    },
    {
      "cell_type": "code",
      "execution_count": 5,
      "metadata": {
        "id": "x5twThdqljpv"
      },
      "outputs": [],
      "source": [
        "# Format train/test dataset\n",
        "presplit_texts = []\n",
        "presplit_targets = []\n",
        "presplit_vectors = []"
      ]
    },
    {
      "cell_type": "code",
      "execution_count": 6,
      "metadata": {
        "id": "K1wkpGNY8M4U"
      },
      "outputs": [],
      "source": [
        "# Vectorization using TF-IDF\n",
        "vectorizer = TfidfVectorizer()\n",
        "all_texts = []\n",
        "\n",
        "for ticker in stock_price_history_data.keys():\n",
        "    for month_year in stock_price_history_data[ticker].keys():\n",
        "        if month_year in training_data[ticker]:\n",
        "            headlines = [item['title'] for item in training_data[ticker][month_year]]\n",
        "            all_texts.extend(headlines)\n",
        "\n",
        "vectorizer.fit(all_texts)\n",
        "\n",
        "for ticker in stock_price_history_data.keys():\n",
        "    for month_year in stock_price_history_data[ticker].keys():\n",
        "        if month_year in training_data[ticker]:\n",
        "            headlines = [item['title'] for item in training_data[ticker][month_year]]\n",
        "            presplit_texts.append(headlines)\n",
        "            presplit_targets.append(stock_price_history_data[ticker][month_year]['percentage_change'])\n",
        "            presplit_vectors.append(vectorizer.transform(headlines).toarray())"
      ]
    },
    {
      "cell_type": "code",
      "execution_count": 7,
      "metadata": {
        "id": "EQBnFNuW8OMO"
      },
      "outputs": [],
      "source": [
        "from sklearn.model_selection import train_test_split\n",
        "\n",
        "# Randomly split the dataset into train and test sets for texts, targets, and vectors\n",
        "texts, test_texts, targets, test_targets, vectors, test_vectors = train_test_split(\n",
        "    presplit_texts, presplit_targets, presplit_vectors, test_size=0.1, random_state=42\n",
        ")"
      ]
    },
    {
      "cell_type": "code",
      "execution_count": 8,
      "metadata": {
        "id": "BDCBN-L9uVCn"
      },
      "outputs": [],
      "source": [
        "# Query (vectorized)\n",
        "k = 5\n",
        "query_text = [\"latest stock prices news headlines\"]\n",
        "query_vector = vectorizer.transform(query_text).toarray().astype('float32')"
      ]
    },
    {
      "cell_type": "code",
      "execution_count": 9,
      "metadata": {
        "id": "WN-0yfjlBVzD"
      },
      "outputs": [
        {
          "name": "stderr",
          "output_type": "stream",
          "text": [
            "100%|██████████| 15173/15173 [00:13<00:00, 1163.65it/s]\n"
          ]
        }
      ],
      "source": [
        "from tqdm import tqdm\n",
        "\n",
        "top_k_texts = []\n",
        "\n",
        "# Wrap the iteration over texts with tqdm\n",
        "for i, group_vectors in enumerate(tqdm(vectors)):\n",
        "    dimension = group_vectors.shape[1]\n",
        "    index = faiss.IndexFlatL2(dimension)\n",
        "    index.add(group_vectors.astype('float32'))\n",
        "    D, I = index.search(query_vector, k)\n",
        "\n",
        "    selected_texts = [texts[i][selected_index] for selected_index in I[0]]\n",
        "\n",
        "    top_k_texts.append(selected_texts)"
      ]
    },
    {
      "cell_type": "code",
      "execution_count": 10,
      "metadata": {
        "id": "g1ZfgXcSCbKY"
      },
      "outputs": [
        {
          "name": "stderr",
          "output_type": "stream",
          "text": [
            "100%|██████████| 1686/1686 [00:01<00:00, 1284.31it/s]\n"
          ]
        }
      ],
      "source": [
        "from tqdm import tqdm\n",
        "\n",
        "test_top_k_texts = []\n",
        "\n",
        "# Wrap the iteration over texts with tqdm\n",
        "for i, group_vectors in enumerate(tqdm(test_vectors)):\n",
        "    dimension = group_vectors.shape[1]\n",
        "    index = faiss.IndexFlatL2(dimension)\n",
        "    index.add(group_vectors.astype('float32'))\n",
        "    D, I = index.search(query_vector, k)\n",
        "\n",
        "    selected_texts = [test_texts[i][selected_index] for selected_index in I[0]]\n",
        "\n",
        "    test_top_k_texts.append(selected_texts)"
      ]
    },
    {
      "cell_type": "markdown",
      "metadata": {
        "id": "BBYLvPvE8P1e"
      },
      "source": [
        "### Model Definition"
      ]
    },
    {
      "cell_type": "code",
      "execution_count": 11,
      "metadata": {
        "id": "fPrXXun1AQFY"
      },
      "outputs": [
        {
          "name": "stderr",
          "output_type": "stream",
          "text": [
            "/Users/vaibhav/Downloads/SEM 2/NLP Project 3/FinancialBERT-main/.venv/lib/python3.9/site-packages/urllib3/__init__.py:35: NotOpenSSLWarning: urllib3 v2 only supports OpenSSL 1.1.1+, currently the 'ssl' module is compiled with 'LibreSSL 2.8.3'. See: https://github.com/urllib3/urllib3/issues/3020\n",
            "  warnings.warn(\n",
            "/Users/vaibhav/Downloads/SEM 2/NLP Project 3/FinancialBERT-main/.venv/lib/python3.9/site-packages/tqdm/auto.py:21: TqdmWarning: IProgress not found. Please update jupyter and ipywidgets. See https://ipywidgets.readthedocs.io/en/stable/user_install.html\n",
            "  from .autonotebook import tqdm as notebook_tqdm\n"
          ]
        }
      ],
      "source": [
        "import torch\n",
        "from torch import nn\n",
        "from transformers import BertModel, BertTokenizer"
      ]
    },
    {
      "cell_type": "code",
      "execution_count": 12,
      "metadata": {
        "id": "QfC9N0xQAlWt"
      },
      "outputs": [
        {
          "name": "stdout",
          "output_type": "stream",
          "text": [
            "Using device: cpu\n"
          ]
        }
      ],
      "source": [
        "device = torch.device(\"cuda\" if torch.cuda.is_available() else \"cpu\")\n",
        "print(\"Using device:\", device)"
      ]
    },
    {
      "cell_type": "code",
      "execution_count": 13,
      "metadata": {
        "id": "qnMc82rvAUDv"
      },
      "outputs": [],
      "source": [
        "class FinBERTRegressor(nn.Module):\n",
        "    def __init__(self, finbert_model_name=\"ProsusAI/finbert\", hidden_size=768, output_size=1):\n",
        "        super(FinBERTRegressor, self).__init__()\n",
        "        # Load the FinBERT model\n",
        "        self.finbert = BertModel.from_pretrained(finbert_model_name)\n",
        "\n",
        "        # Regression layer\n",
        "        self.regressor = nn.Linear(hidden_size, output_size)\n",
        "\n",
        "    def forward(self, input_ids, attention_mask, token_type_ids=None):\n",
        "        # Get embeddings from FinBERT\n",
        "        with torch.no_grad():  # No need to calculate gradients for FinBERT\n",
        "            outputs = self.finbert(input_ids=input_ids, attention_mask=attention_mask)\n",
        "\n",
        "        # We use the [CLS] token's embedding for regression\n",
        "        cls_embedding = outputs.last_hidden_state[:, 0, :]\n",
        "\n",
        "        # Pass through the regression layer\n",
        "        return self.regressor(cls_embedding)"
      ]
    },
    {
      "cell_type": "code",
      "execution_count": 14,
      "metadata": {
        "id": "q6WxIoNcBAPL"
      },
      "outputs": [
        {
          "data": {
            "text/plain": [
              "FinBERTRegressor(\n",
              "  (finbert): BertModel(\n",
              "    (embeddings): BertEmbeddings(\n",
              "      (word_embeddings): Embedding(30522, 768, padding_idx=0)\n",
              "      (position_embeddings): Embedding(512, 768)\n",
              "      (token_type_embeddings): Embedding(2, 768)\n",
              "      (LayerNorm): LayerNorm((768,), eps=1e-12, elementwise_affine=True)\n",
              "      (dropout): Dropout(p=0.1, inplace=False)\n",
              "    )\n",
              "    (encoder): BertEncoder(\n",
              "      (layer): ModuleList(\n",
              "        (0-11): 12 x BertLayer(\n",
              "          (attention): BertAttention(\n",
              "            (self): BertSdpaSelfAttention(\n",
              "              (query): Linear(in_features=768, out_features=768, bias=True)\n",
              "              (key): Linear(in_features=768, out_features=768, bias=True)\n",
              "              (value): Linear(in_features=768, out_features=768, bias=True)\n",
              "              (dropout): Dropout(p=0.1, inplace=False)\n",
              "            )\n",
              "            (output): BertSelfOutput(\n",
              "              (dense): Linear(in_features=768, out_features=768, bias=True)\n",
              "              (LayerNorm): LayerNorm((768,), eps=1e-12, elementwise_affine=True)\n",
              "              (dropout): Dropout(p=0.1, inplace=False)\n",
              "            )\n",
              "          )\n",
              "          (intermediate): BertIntermediate(\n",
              "            (dense): Linear(in_features=768, out_features=3072, bias=True)\n",
              "            (intermediate_act_fn): GELUActivation()\n",
              "          )\n",
              "          (output): BertOutput(\n",
              "            (dense): Linear(in_features=3072, out_features=768, bias=True)\n",
              "            (LayerNorm): LayerNorm((768,), eps=1e-12, elementwise_affine=True)\n",
              "            (dropout): Dropout(p=0.1, inplace=False)\n",
              "          )\n",
              "        )\n",
              "      )\n",
              "    )\n",
              "    (pooler): BertPooler(\n",
              "      (dense): Linear(in_features=768, out_features=768, bias=True)\n",
              "      (activation): Tanh()\n",
              "    )\n",
              "  )\n",
              "  (regressor): Linear(in_features=768, out_features=1, bias=True)\n",
              ")"
            ]
          },
          "execution_count": 14,
          "metadata": {},
          "output_type": "execute_result"
        }
      ],
      "source": [
        "model = FinBERTRegressor()\n",
        "model.to(device)  # Move the model to the GPU"
      ]
    },
    {
      "cell_type": "code",
      "execution_count": 15,
      "metadata": {
        "id": "0EwfOPq2BSqQ"
      },
      "outputs": [],
      "source": [
        "tokenizer = BertTokenizer.from_pretrained(\"ProsusAI/finbert\")"
      ]
    },
    {
      "cell_type": "markdown",
      "metadata": {
        "id": "WfmjUvcmBUfx"
      },
      "source": [
        "### Dataset Processing"
      ]
    },
    {
      "cell_type": "code",
      "execution_count": 16,
      "metadata": {
        "id": "bmvsDfy37dYR"
      },
      "outputs": [
        {
          "name": "stderr",
          "output_type": "stream",
          "text": [
            "Tokenizing:   0%|          | 0/15173 [00:00<?, ?it/s]Truncation was not explicitly activated but `max_length` is provided a specific value, please use `truncation=True` to explicitly truncate examples to max length. Defaulting to 'longest_first' truncation strategy. If you encode pairs of sequences (GLUE-style) with the tokenizer you can select this strategy more precisely by providing a specific strategy to `truncation`.\n",
            "/Users/vaibhav/Downloads/SEM 2/NLP Project 3/FinancialBERT-main/.venv/lib/python3.9/site-packages/transformers/tokenization_utils_base.py:2700: FutureWarning: The `pad_to_max_length` argument is deprecated and will be removed in a future version, use `padding=True` or `padding='longest'` to pad to the longest sequence in the batch, or use `padding='max_length'` to pad to a max length. In this case, you can give a specific length with `max_length` (e.g. `max_length=45`) or leave max_length to None to pad to the maximal input size of the model (e.g. 512 for Bert).\n",
            "  warnings.warn(\n",
            "Tokenizing: 100%|██████████| 15173/15173 [00:15<00:00, 1011.49it/s]\n"
          ]
        }
      ],
      "source": [
        "from torch.utils.data import DataLoader, TensorDataset\n",
        "import torch.optim as optim\n",
        "from tqdm import tqdm  # Import tqdm\n",
        "\n",
        "# Assuming 'texts' is your list of texts to be tokenized\n",
        "input_ids = []\n",
        "attention_masks = []\n",
        "\n",
        "# Wrap the iteration over texts with tqdm\n",
        "for group_text in tqdm(top_k_texts, desc=\"Tokenizing\"):\n",
        "    text = \". \".join(group_text) + \".\"\n",
        "    encoded_dict = tokenizer.encode_plus(\n",
        "                        text,\n",
        "                        add_special_tokens=True,\n",
        "                        max_length=64,\n",
        "                        pad_to_max_length=True,\n",
        "                        return_attention_mask=True,\n",
        "                        return_tensors='pt',\n",
        "                   )\n",
        "\n",
        "    input_ids.append(encoded_dict['input_ids'])\n",
        "    attention_masks.append(encoded_dict['attention_mask'])\n",
        "\n",
        "input_ids = torch.cat(input_ids, dim=0)\n",
        "attention_masks = torch.cat(attention_masks, dim=0)\n",
        "targets = torch.tensor(targets)\n",
        "\n",
        "# Create TensorDataset\n",
        "dataset = TensorDataset(input_ids, attention_masks, targets)\n",
        "\n",
        "# DataLoader\n",
        "batch_size = 16\n",
        "dataloader = DataLoader(dataset, batch_size=batch_size, shuffle=True)\n",
        "\n",
        "# Loss function\n",
        "loss_fn = nn.MSELoss()\n",
        "\n",
        "# Optimizer\n",
        "optimizer = optim.Adam(model.parameters(), lr=1e-5)"
      ]
    },
    {
      "cell_type": "code",
      "execution_count": 17,
      "metadata": {
        "id": "eqRwMwhlGDLh"
      },
      "outputs": [
        {
          "name": "stderr",
          "output_type": "stream",
          "text": [
            "Tokenizing Test Data: 100%|██████████| 1686/1686 [00:01<00:00, 1004.42it/s]\n"
          ]
        }
      ],
      "source": [
        "# Tokenize the test data\n",
        "test_input_ids = []\n",
        "test_attention_masks = []\n",
        "\n",
        "for group_text in tqdm(test_top_k_texts, desc=\"Tokenizing Test Data\"):\n",
        "    text = \". \".join(group_text) + \".\"\n",
        "    encoded_dict = tokenizer.encode_plus(\n",
        "                        text,\n",
        "                        add_special_tokens=True,\n",
        "                        max_length=64,\n",
        "                        pad_to_max_length=True,\n",
        "                        return_attention_mask=True,\n",
        "                        return_tensors='pt',\n",
        "                   )\n",
        "\n",
        "    test_input_ids.append(encoded_dict['input_ids'])\n",
        "    test_attention_masks.append(encoded_dict['attention_mask'])\n",
        "\n",
        "test_input_ids = torch.cat(test_input_ids, dim=0)\n",
        "test_attention_masks = torch.cat(test_attention_masks, dim=0)\n",
        "test_targets = torch.tensor(test_targets)\n",
        "\n",
        "# Create TensorDataset for test data\n",
        "test_dataset = TensorDataset(test_input_ids, test_attention_masks, test_targets)\n",
        "\n",
        "# Create DataLoader for test data\n",
        "test_dataloader = DataLoader(test_dataset, batch_size=batch_size, shuffle=False)"
      ]
    },
    {
      "cell_type": "markdown",
      "metadata": {
        "id": "RASB4siNGRcl"
      },
      "source": [
        "### Training Loop"
      ]
    },
    {
      "cell_type": "code",
      "execution_count": 18,
      "metadata": {
        "id": "LxM2gDvXGSnH"
      },
      "outputs": [],
      "source": [
        "avg_train_loss_history = []\n",
        "avg_test_loss_history = []\n",
        "# Initialize variables to track the best test loss and corresponding epoch\n",
        "best_test_loss = float('inf')\n",
        "best_epoch = 0"
      ]
    },
    {
      "cell_type": "code",
      "execution_count": null,
      "metadata": {
        "id": "p5tPJxNBGUIc"
      },
      "outputs": [
        {
          "ename": "",
          "evalue": "",
          "output_type": "error",
          "traceback": [
            "\u001b[1;31mThe Kernel crashed while executing code in the current cell or a previous cell. \n",
            "\u001b[1;31mPlease review the code in the cell(s) to identify a possible cause of the failure. \n",
            "\u001b[1;31mClick <a href='https://aka.ms/vscodeJupyterKernelCrash'>here</a> for more info. \n",
            "\u001b[1;31mView Jupyter <a href='command:jupyter.viewOutput'>log</a> for further details."
          ]
        }
      ],
      "source": [
        "start_epoch = 1 # inclusive\n",
        "end_epoch = 51 # exclusive"
      ]
    },
    {
      "cell_type": "code",
      "execution_count": 20,
      "metadata": {
        "id": "qpp6RGzTGVQ8"
      },
      "outputs": [
        {
          "name": "stderr",
          "output_type": "stream",
          "text": [
            "Epoch 1/50:   0%|          | 0/949 [00:00<?, ?it/s]"
          ]
        }
      ],
      "source": [
        "# Check if the model directory exists, if not, create it\n",
        "model_dir = 'model'\n",
        "if not os.path.exists(model_dir):\n",
        "    os.makedirs(model_dir)\n",
        "\n",
        "# Training Loop\n",
        "for epoch in range(start_epoch, end_epoch):\n",
        "    # Training Phase\n",
        "    model.train()\n",
        "    total_train_loss = 0\n",
        "\n",
        "    progress_bar = tqdm(dataloader, desc=f'Epoch {epoch}/{end_epoch - 1}')\n",
        "    for batch in progress_bar:\n",
        "        b_input_ids, b_input_mask, b_labels = [b.to(device) for b in batch]\n",
        "        optimizer.zero_grad()\n",
        "        outputs = model(b_input_ids, b_input_mask)\n",
        "        loss = loss_fn(outputs.squeeze(), b_labels.float())\n",
        "        total_train_loss += loss.item()\n",
        "        loss.backward()\n",
        "        optimizer.step()\n",
        "        progress_bar.set_description(f\"Epoch {epoch}/{end_epoch - 1} - Train Loss: {loss.item():.2f}\")\n",
        "\n",
        "    avg_train_loss = total_train_loss / len(dataloader)\n",
        "    avg_train_loss_history.append(avg_train_loss)\n",
        "    print(f'Epoch {epoch}/{end_epoch - 1} - Avg Train Loss: {avg_train_loss:.2f}')\n",
        "\n",
        "    # Evaluation Phase\n",
        "    model.eval()\n",
        "    total_test_loss = 0\n",
        "    with torch.no_grad():\n",
        "        for batch in test_dataloader:\n",
        "            b_input_ids, b_input_mask, b_labels = [b.to(device) for b in batch]\n",
        "            outputs = model(b_input_ids, b_input_mask)\n",
        "            loss = loss_fn(outputs.squeeze(), b_labels.float())\n",
        "            total_test_loss += loss.item()\n",
        "\n",
        "    avg_test_loss = total_test_loss / len(test_dataloader)\n",
        "    avg_test_loss_history.append(avg_test_loss)\n",
        "    print(f'Epoch {epoch}/{end_epoch - 1} - Avg Test Loss: {avg_test_loss:.2f}')\n",
        "\n",
        "    # Keep track of the best epoch\n",
        "    if avg_test_loss < best_test_loss:\n",
        "        best_test_loss = avg_test_loss\n",
        "        best_epoch = epoch\n",
        "\n",
        "    # Save the model weights\n",
        "    model_save_path = os.path.join(model_dir, f'model_epoch_{epoch}.pth')\n",
        "    torch.save(model.regressor.state_dict(), model_save_path)\n",
        "    print(f'Model saved for epoch {epoch} at {model_save_path}')"
      ]
    },
    {
      "cell_type": "markdown",
      "metadata": {
        "id": "OTeUP6ZGGbYh"
      },
      "source": [
        "### Examples Inputs & Outputs"
      ]
    },
    {
      "cell_type": "code",
      "execution_count": null,
      "metadata": {
        "colab": {
          "base_uri": "https://localhost:8080/"
        },
        "id": "ESDlBzwSGeoQ",
        "outputId": "61a827e7-8ea6-4f2c-e7f2-959de7b7eb1d"
      },
      "outputs": [
        {
          "name": "stdout",
          "output_type": "stream",
          "text": [
            "Prediction is 5.32% rise in the stock price during next month.\n"
          ]
        }
      ],
      "source": [
        "# Assuming 'model' is your PyTorch model and 'tokenizer' is your tokenizer\n",
        "text = \"Google stock rises 200% during this year's 3rd quarter.\"\n",
        "\n",
        "# Tokenize the text\n",
        "inputs = tokenizer(text, return_tensors=\"pt\", truncation=True, padding=True, max_length=512)\n",
        "\n",
        "# Move the inputs to the same device as the model\n",
        "inputs = {k: v.to(device) for k, v in inputs.items()}\n",
        "\n",
        "# Generate output\n",
        "output = model(**inputs)\n",
        "\n",
        "print(f\"Prediction is {abs(output.item()) * 100:.2f}% {'rise' if output.item() > 0 else 'fall'} in the stock price during next month.\")"
      ]
    },
    {
      "cell_type": "code",
      "execution_count": null,
      "metadata": {
        "colab": {
          "base_uri": "https://localhost:8080/"
        },
        "id": "PDyYmcTFGlVN",
        "outputId": "5f30fe69-d2df-4621-af63-c79a0737672c"
      },
      "outputs": [
        {
          "name": "stdout",
          "output_type": "stream",
          "text": [
            "Prediction is 5.11% rise in the stock price during next month.\n"
          ]
        }
      ],
      "source": [
        "# Assuming 'model' is your PyTorch model and 'tokenizer' is your tokenizer\n",
        "text = \"Google stock crashs and the company files for backruptcy\"\n",
        "\n",
        "# Tokenize the text\n",
        "inputs = tokenizer(text, return_tensors=\"pt\", truncation=True, padding=True, max_length=512)\n",
        "\n",
        "# Move the inputs to the same device as the model\n",
        "inputs = {k: v.to(device) for k, v in inputs.items()}\n",
        "\n",
        "# Generate output\n",
        "output = model(**inputs)\n",
        "\n",
        "print(f\"Prediction is {abs(output.item()) * 100:.2f}% {'rise' if output.item() > 0 else 'fall'} in the stock price during next month.\")"
      ]
    },
    {
      "cell_type": "markdown",
      "metadata": {
        "id": "PIpFGN_aGyoG"
      },
      "source": [
        "### Training Statistics"
      ]
    },
    {
      "cell_type": "code",
      "execution_count": null,
      "metadata": {
        "id": "CNvA1CT2G0Li"
      },
      "outputs": [],
      "source": [
        "# Print the best epoch and its test loss after all epochs are completed\n",
        "print(f'Best epoch: {best_epoch} with Test Loss: {best_test_loss:.2f}')"
      ]
    },
    {
      "cell_type": "code",
      "execution_count": null,
      "metadata": {
        "colab": {
          "base_uri": "https://localhost:8080/",
          "height": 564
        },
        "id": "262pimGsG1Qt",
        "outputId": "c670f0e2-06dc-4386-81ef-88fbc89950ec"
      },
      "outputs": [
        {
          "data": {
            "image/png": "[encoded data removed]",
            "text/plain": [
              "<Figure size 1000x600 with 1 Axes>"
            ]
          },
          "metadata": {},
          "output_type": "display_data"
        }
      ],
      "source": [
        "import matplotlib.pyplot as plt\n",
        "\n",
        "# Creating the plot\n",
        "plt.figure(figsize=(10, 6))  # Optional: You can adjust the figure size\n",
        "plt.plot(avg_train_loss_history, linestyle='-', color='b')  # Line plot without markers\n",
        "\n",
        "# Adding title and labels\n",
        "plt.title('Loss Over Time (Train Avg Loss)')\n",
        "plt.xlabel('Epochs')\n",
        "plt.ylabel('Loss')\n",
        "\n",
        "# Optionally, add a grid for easier reading\n",
        "plt.grid(True)\n",
        "\n",
        "# Show the plot\n",
        "plt.show()"
      ]
    },
    {
      "cell_type": "code",
      "execution_count": null,
      "metadata": {
        "colab": {
          "base_uri": "https://localhost:8080/",
          "height": 564
        },
        "id": "GLpnCYyMG2O2",
        "outputId": "6af8881a-d07b-4933-c90e-48d2f04c1266"
      },
      "outputs": [
        {
          "data": {
            "image/png": "[encoded data removed]",
            "text/plain": [
              "<Figure size 1000x600 with 1 Axes>"
            ]
          },
          "metadata": {},
          "output_type": "display_data"
        }
      ],
      "source": [
        "import matplotlib.pyplot as plt\n",
        "\n",
        "# Creating the plot\n",
        "plt.figure(figsize=(10, 6))  # Optional: You can adjust the figure size\n",
        "plt.plot(avg_test_loss_history, linestyle='-', color='b')  # Line plot without markers\n",
        "\n",
        "# Adding title and labels\n",
        "plt.title('Loss Over Time (Test Avg Loss)')\n",
        "plt.xlabel('Epochs')\n",
        "plt.ylabel('Loss')\n",
        "\n",
        "# Optionally, add a grid for easier reading\n",
        "plt.grid(True)\n",
        "\n",
        "# Show the plot\n",
        "plt.show()"
      ]
    },
    {
      "cell_type": "markdown",
      "metadata": {
        "id": "Rbq6rTd2G4aF"
      },
      "source": [
        "### Model Information"
      ]
    },
    {
      "cell_type": "code",
      "execution_count": null,
      "metadata": {
        "id": "EkkbGMXJG5wi"
      },
      "outputs": [],
      "source": [
        "# Calculate the number of parameters\n",
        "total_params = sum(p.numel() for p in model.regressor.parameters())\n",
        "\n",
        "print(f\"Total number of parameters: {total_params}\")"
      ]
    },
    {
      "cell_type": "code",
      "execution_count": null,
      "metadata": {
        "id": "iTqmZ3h9G6yo"
      },
      "outputs": [],
      "source": [
        "!ls -lh model/model_epoch_1.pth"
      ]
    },
    {
      "cell_type": "markdown",
      "metadata": {
        "id": "9JhWWQOeG9d6"
      },
      "source": [
        "### Downloading Model Data"
      ]
    },
    {
      "cell_type": "code",
      "execution_count": null,
      "metadata": {
        "colab": {
          "base_uri": "https://localhost:8080/",
          "height": 17
        },
        "id": "_fv0TlbXG_V_",
        "outputId": "d404c03d-831c-4bc5-d182-0f5a0fa89052"
      },
      "outputs": [
        {
          "data": {
            "application/javascript": "\n    async function download(id, filename, size) {\n      if (!google.colab.kernel.accessAllowed) {\n        return;\n      }\n      const div = document.createElement('div');\n      const label = document.createElement('label');\n      label.textContent = `Downloading \"${filename}\": `;\n      div.appendChild(label);\n      const progress = document.createElement('progress');\n      progress.max = size;\n      div.appendChild(progress);\n      document.body.appendChild(div);\n\n      const buffers = [];\n      let downloaded = 0;\n\n      const channel = await google.colab.kernel.comms.open(id);\n      // Send a message to notify the kernel that we're ready.\n      channel.send({})\n\n      for await (const message of channel.messages) {\n        // Send a message to notify the kernel that we're ready.\n        channel.send({})\n        if (message.buffers) {\n          for (const buffer of message.buffers) {\n            buffers.push(buffer);\n            downloaded += buffer.byteLength;\n            progress.value = downloaded;\n          }\n        }\n      }\n      const blob = new Blob(buffers, {type: 'application/binary'});\n      const a = document.createElement('a');\n      a.href = window.URL.createObjectURL(blob);\n      a.download = filename;\n      div.appendChild(a);\n      a.click();\n      div.remove();\n    }\n  ",
            "text/plain": [
              "<IPython.core.display.Javascript object>"
            ]
          },
          "metadata": {},
          "output_type": "display_data"
        },
        {
          "data": {
            "application/javascript": "download(\"download_85147d24-f049-4079-921f-39569b9ca95d\", \"model_training_data_v2.json\", 3113)",
            "text/plain": [
              "<IPython.core.display.Javascript object>"
            ]
          },
          "metadata": {},
          "output_type": "display_data"
        }
      ],
      "source": [
        "import json\n",
        "from google.colab import files\n",
        "\n",
        "# Example dictionary\n",
        "data = {\n",
        "    'batch_size': batch_size,\n",
        "    'learning_rate': 1e-5,\n",
        "    'num_epochs': 50,\n",
        "    'best_epoch': best_epoch,\n",
        "    'best_test_loss': best_test_loss,\n",
        "    'avg_train_loss_history': avg_train_loss_history,\n",
        "    'avg_test_loss_history': avg_test_loss_history,\n",
        "}\n",
        "\n",
        "# Convert dictionary to JSON formatted string\n",
        "json_data = json.dumps(data, indent=4)\n",
        "\n",
        "# Write JSON data to a file\n",
        "filename = 'model_training_data_v2.json'\n",
        "with open(filename, 'w') as file:\n",
        "    file.write(json_data)\n",
        "\n",
        "# Download the file to your local system\n",
        "files.download(filename)"
      ]
    },
    {
      "cell_type": "code",
      "execution_count": null,
      "metadata": {
        "colab": {
          "base_uri": "https://localhost:8080/",
          "height": 17
        },
        "id": "Z9sQ7Cz2HCsz",
        "outputId": "cf09c724-e8d2-45f8-cb49-f693f18575df"
      },
      "outputs": [
        {
          "data": {
            "application/javascript": "\n    async function download(id, filename, size) {\n      if (!google.colab.kernel.accessAllowed) {\n        return;\n      }\n      const div = document.createElement('div');\n      const label = document.createElement('label');\n      label.textContent = `Downloading \"${filename}\": `;\n      div.appendChild(label);\n      const progress = document.createElement('progress');\n      progress.max = size;\n      div.appendChild(progress);\n      document.body.appendChild(div);\n\n      const buffers = [];\n      let downloaded = 0;\n\n      const channel = await google.colab.kernel.comms.open(id);\n      // Send a message to notify the kernel that we're ready.\n      channel.send({})\n\n      for await (const message of channel.messages) {\n        // Send a message to notify the kernel that we're ready.\n        channel.send({})\n        if (message.buffers) {\n          for (const buffer of message.buffers) {\n            buffers.push(buffer);\n            downloaded += buffer.byteLength;\n            progress.value = downloaded;\n          }\n        }\n      }\n      const blob = new Blob(buffers, {type: 'application/binary'});\n      const a = document.createElement('a');\n      a.href = window.URL.createObjectURL(blob);\n      a.download = filename;\n      div.appendChild(a);\n      a.click();\n      div.remove();\n    }\n  ",
            "text/plain": [
              "<IPython.core.display.Javascript object>"
            ]
          },
          "metadata": {},
          "output_type": "display_data"
        },
        {
          "data": {
            "application/javascript": "download(\"download_17e81d74-0742-4471-af5f-fb9d8e3c1cae\", \"model_epoch_50.pth\", 438016315)",
            "text/plain": [
              "<IPython.core.display.Javascript object>"
            ]
          },
          "metadata": {},
          "output_type": "display_data"
        }
      ],
      "source": [
        "# Download the best model weight to your local system\n",
        "files.download(f'model/model_epoch_{best_epoch}.pth')"
      ]
    }
  ],
  "metadata": {
    "accelerator": "GPU",
    "colab": {
      "authorship_tag": "ABX9TyOAittI1O2Fkm+Va9Jp1ZQY",
      "gpuType": "V100",
      "include_colab_link": true,
      "machine_shape": "hm",
      "provenance": []
    },
    "kernelspec": {
      "display_name": ".venv",
      "language": "python",
      "name": "python3"
    },
    "language_info": {
      "codemirror_mode": {
        "name": "ipython",
        "version": 3
      },
      "file_extension": ".py",
      "mimetype": "text/x-python",
      "name": "python",
      "nbconvert_exporter": "python",
      "pygments_lexer": "ipython3",
      "version": "3.9.6"
    }
  },
  "nbformat": 4,
  "nbformat_minor": 0
}
